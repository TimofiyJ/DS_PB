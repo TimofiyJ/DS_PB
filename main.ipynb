{
 "cells": [
  {
   "cell_type": "code",
   "execution_count": 1,
   "id": "fefb50e3",
   "metadata": {},
   "outputs": [],
   "source": [
    "import pandas as pd\n",
    "import csv"
   ]
  },
  {
   "cell_type": "code",
   "execution_count": 49,
   "id": "8cc95d0b",
   "metadata": {},
   "outputs": [
    {
     "name": "stdout",
     "output_type": "stream",
     "text": [
      "   Unnamed: 0   num_1   num_2  num_3   num_4   num_5   num_6  num_7  cat_1  \\\n",
      "0           0  1377.3  3712.9    NaN  1303.0  2409.0  1281.7   43.0      1   \n",
      "1           1    20.0    13.4    NaN   565.0     NaN   357.2   19.0      1   \n",
      "2           4   150.6     1.8    NaN  2294.0    15.0   107.6   76.0      1   \n",
      "3           5    11.4   178.0    NaN  1236.0     NaN   350.6   41.0      1   \n",
      "4           6  5372.0  3386.0    NaN  1340.0     NaN    14.0   45.0      1   \n",
      "\n",
      "   num_8  ...  num_413  cat_132  cat_133      num_414  num_415  num_416  \\\n",
      "0  195.0  ...  11327.5        1        1  28162496.65      0.0     0.07   \n",
      "1  170.0  ...    168.6        1        1    989383.82      0.0     0.56   \n",
      "2  196.0  ...    209.1        1        1     87444.51      0.0     0.01   \n",
      "3  117.0  ...     56.9        1        1    297608.00      0.0     0.08   \n",
      "4    9.0  ...     31.0        1        1   6614247.89      0.0     0.20   \n",
      "\n",
      "   cat_134  cat_135  id  gb  \n",
      "0        1        1   1   0  \n",
      "1        2        1   2   0  \n",
      "2        3        1   3   0  \n",
      "3        4        1   4   0  \n",
      "4        1        1   5   0  \n",
      "\n",
      "[5 rows x 554 columns]\n"
     ]
    }
   ],
   "source": [
    "df = pd.read_csv(\"./train_df.csv\", sep='\\t')\n",
    "print(df.head())\n"
   ]
  }
 ],
 "metadata": {
  "kernelspec": {
   "display_name": "Python 3 (ipykernel)",
   "language": "python",
   "name": "python3"
  },
  "language_info": {
   "codemirror_mode": {
    "name": "ipython",
    "version": 3
   },
   "file_extension": ".py",
   "mimetype": "text/x-python",
   "name": "python",
   "nbconvert_exporter": "python",
   "pygments_lexer": "ipython3",
   "version": "3.11.3"
  }
 },
 "nbformat": 4,
 "nbformat_minor": 5
}
