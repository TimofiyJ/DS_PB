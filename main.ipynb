{
 "cells": [
  {
   "cell_type": "markdown",
   "id": "2a7fe721",
   "metadata": {},
   "source": [
    "Plan:\n",
    "- Dealing with NaN values\n",
    "- Data visualization and exploration(means, medians etc.) + analyse result value distribution\n",
    "- Outlier detection and handling\n",
    "- Feature Engineering (Feature selection):\n",
    "    - Visualize correlation matrix in order to find least useful features that do not corelate with the output\n",
    "    - Use other feature selection techniques\n",
    "- Perform a dimesion reduction:\n",
    "    - Make a PCA plot\n",
    "    - Try Heatmap, t-SNE plot, Multi-Dimensional Scaling(MDS)\n",
    "- Label encoding for categorical variables\n",
    "- Data normalization\n",
    "- Data regularization\n",
    "- Data splitting\n",
    "- Selecting ML algorithm\n",
    "- Hyperparameter tuning and use of cross-validation\n",
    "- Testing"
   ]
  },
  {
   "cell_type": "markdown",
   "id": "c564925b",
   "metadata": {},
   "source": [
    "After looking at the data I have come to conclusion that the amount of features is big, so I decided to perform feature selection at first and then do some Feature engineering. Also the categorical variables seems not encoded and there are way too many categories in some features. There are also a lot of NaN values and I need to pick one of the methods to replace them."
   ]
  },
  {
   "cell_type": "code",
   "execution_count": 60,
   "id": "fefb50e3",
   "metadata": {},
   "outputs": [],
   "source": [
    "import pandas as pd\n",
    "import csv\n",
    "import matplotlib.pyplot as plt \n"
   ]
  },
  {
   "cell_type": "code",
   "execution_count": 61,
   "id": "8cc95d0b",
   "metadata": {},
   "outputs": [
    {
     "name": "stdout",
     "output_type": "stream",
     "text": [
      "   Unnamed: 0   num_1   num_2  num_3   num_4   num_5   num_6  num_7  cat_1  \\\n",
      "0           0  1377.3  3712.9    NaN  1303.0  2409.0  1281.7   43.0      1   \n",
      "1           1    20.0    13.4    NaN   565.0     NaN   357.2   19.0      1   \n",
      "2           4   150.6     1.8    NaN  2294.0    15.0   107.6   76.0      1   \n",
      "3           5    11.4   178.0    NaN  1236.0     NaN   350.6   41.0      1   \n",
      "4           6  5372.0  3386.0    NaN  1340.0     NaN    14.0   45.0      1   \n",
      "\n",
      "   num_8  ...  num_413  cat_132  cat_133      num_414  num_415  num_416  \\\n",
      "0  195.0  ...  11327.5        1        1  28162496.65      0.0     0.07   \n",
      "1  170.0  ...    168.6        1        1    989383.82      0.0     0.56   \n",
      "2  196.0  ...    209.1        1        1     87444.51      0.0     0.01   \n",
      "3  117.0  ...     56.9        1        1    297608.00      0.0     0.08   \n",
      "4    9.0  ...     31.0        1        1   6614247.89      0.0     0.20   \n",
      "\n",
      "   cat_134  cat_135  id  gb  \n",
      "0        1        1   1   0  \n",
      "1        2        1   2   0  \n",
      "2        3        1   3   0  \n",
      "3        4        1   4   0  \n",
      "4        1        1   5   0  \n",
      "\n",
      "[5 rows x 554 columns]\n"
     ]
    }
   ],
   "source": [
    "df = pd.read_csv(\"./train_df.csv\", sep='\\t')\n",
    "print(df.head())"
   ]
  },
  {
   "cell_type": "code",
   "execution_count": 62,
   "id": "b47574e0",
   "metadata": {},
   "outputs": [],
   "source": [
    "categorical = []\n",
    "for column in df.columns:\n",
    "    if column.find(\"cat\")!=-1:\n",
    "        categorical.append(column)\n",
    "    df_categorical = df[categorical]\n",
    "print(df_categorical.head())\n",
    "        "
   ]
  },
  {
   "cell_type": "code",
   "execution_count": null,
   "id": "720868c6",
   "metadata": {},
   "outputs": [
    {
     "name": "stdout",
     "output_type": "stream",
     "text": [
      "MAX VALUES\n",
      "cat_1      5\n",
      "cat_2      3\n",
      "cat_3      3\n",
      "cat_4      3\n",
      "cat_5      6\n",
      "          ..\n",
      "cat_131    4\n",
      "cat_132    3\n",
      "cat_133    2\n",
      "cat_134    8\n",
      "cat_135    4\n",
      "Length: 135, dtype: int64\n",
      "\n",
      "MIN VALUES\n",
      "cat_1      1\n",
      "cat_2      1\n",
      "cat_3      1\n",
      "cat_4      1\n",
      "cat_5      1\n",
      "          ..\n",
      "cat_131    1\n",
      "cat_132    1\n",
      "cat_133    1\n",
      "cat_134    1\n",
      "cat_135    1\n",
      "Length: 135, dtype: int64\n",
      "\n",
      "MEAN VALUES\n",
      "cat_1      1.001789\n",
      "cat_2      1.141403\n",
      "cat_3      1.362996\n",
      "cat_4      1.002386\n",
      "cat_5      1.127200\n",
      "             ...   \n",
      "cat_131    1.055174\n",
      "cat_132    1.011109\n",
      "cat_133    1.164480\n",
      "cat_134    3.155942\n",
      "cat_135    1.011967\n",
      "Length: 135, dtype: float64\n",
      "\n",
      "MEDIAN VALUES\n",
      "cat_1      1.0\n",
      "cat_2      1.0\n",
      "cat_3      1.0\n",
      "cat_4      1.0\n",
      "cat_5      1.0\n",
      "          ... \n",
      "cat_131    1.0\n",
      "cat_132    1.0\n",
      "cat_133    1.0\n",
      "cat_134    3.0\n",
      "cat_135    1.0\n",
      "Length: 135, dtype: float64\n",
      "\n",
      "VARIANCE VALUES\n",
      "cat_1      0.005514\n",
      "cat_2      0.122009\n",
      "cat_3      0.231835\n",
      "cat_4      0.004468\n",
      "cat_5      0.139880\n",
      "             ...   \n",
      "cat_131    0.063913\n",
      "cat_132    0.011583\n",
      "cat_133    0.137431\n",
      "cat_134    2.643876\n",
      "cat_135    0.015403\n",
      "Length: 135, dtype: float64\n",
      "0        1\n",
      "1        1\n",
      "2        1\n",
      "3        1\n",
      "4        1\n",
      "        ..\n",
      "26819    1\n",
      "26820    1\n",
      "26821    1\n",
      "26822    1\n",
      "26823    1\n",
      "Name: cat_1, Length: 26824, dtype: int64\n"
     ]
    }
   ],
   "source": [
    "print(\"MAX VALUES\")\n",
    "print(df_categorical.max())\n",
    "print(\"\\nMIN VALUES\")\n",
    "print(df_categorical.min())\n",
    "print(\"\\nMEAN VALUES\")\n",
    "print(df_categorical.mean())\n",
    "print(\"\\nMEDIAN VALUES\")\n",
    "print(df_categorical.median())\n",
    "print(\"\\nVARIANCE VALUES\")\n",
    "print(df_categorical.var())\n",
    "\n",
    "print(df_categorical[\"cat_1\"])"
   ]
  },
  {
   "cell_type": "code",
   "execution_count": null,
   "id": "a7c6314c",
   "metadata": {},
   "outputs": [
    {
     "data": {
      "image/png": "[encoded data removed]",
      "text/plain": [
       "<Figure size 1000x500 with 1 Axes>"
      ]
     },
     "metadata": {},
     "output_type": "display_data"
    },
    {
     "name": "stdout",
     "output_type": "stream",
     "text": [
      "108034.93383735517\n"
     ]
    }
   ],
   "source": [
    "fig = plt.figure(figsize = (10, 5))\n",
    " \n",
    "# creating the bar plot\n",
    "plt.bar([i for i in range(0,len(df_categorical.columns))], df_categorical.var())\n",
    " \n",
    "plt.xlabel(\"Columns\")\n",
    "plt.ylabel(\"Variance\")\n",
    "plt.title(\"Variance for each categorical column\")\n",
    "plt.show()\n",
    "\n",
    "print(max(df_categorical.var()))"
   ]
  },
  {
   "cell_type": "code",
   "execution_count": null,
   "id": "e21f0d90",
   "metadata": {},
   "outputs": [
    {
     "name": "stdout",
     "output_type": "stream",
     "text": [
      "1.0\n"
     ]
    }
   ],
   "source": [
    "print(df_categorical.median().median())"
   ]
  },
  {
   "cell_type": "markdown",
   "id": "1329d50b",
   "metadata": {},
   "source": [
    "As we can see, the median of all medians is 1. This means that most of the categorical values equal to 1, avarage, median is near 1 and variance is around 0. This means that most "
   ]
  }
 ],
 "metadata": {
  "kernelspec": {
   "display_name": "Python 3 (ipykernel)",
   "language": "python",
   "name": "python3"
  },
  "language_info": {
   "codemirror_mode": {
    "name": "ipython",
    "version": 3
   },
   "file_extension": ".py",
   "mimetype": "text/x-python",
   "name": "python",
   "nbconvert_exporter": "python",
   "pygments_lexer": "ipython3",
   "version": "3.11.4"
  }
 },
 "nbformat": 4,
 "nbformat_minor": 5
}
