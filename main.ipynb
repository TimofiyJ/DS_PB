{
 "cells": [
  {
   "cell_type": "markdown",
   "id": "2a7fe721",
   "metadata": {},
   "source": [
    "Plan:\n",
    "- Feature Engineering (Feature selection):\n",
    "    - Visualize correlation matrix in order to find least useful features that do not corelate with the output\n",
    "- Dealing with NaN values\n",
    "- Label encoding for categorical variables\n",
    "- Data normalization\n",
    "- Data regularization\n",
    "- Data splitting\n",
    "- Selecting ML algorithm\n",
    "- Hyperparameter tuning\n",
    "- Testing"
   ]
  },
  {
   "cell_type": "markdown",
   "id": "c564925b",
   "metadata": {},
   "source": [
    "After looking at the data I have come to conclusion that the amount of features is big, so I decided to perform feature selection at first and then do some Feature engineering. Also the categorical variables seems not encoded and there are way too many categories in some features. There are also a lot of NaN values and I need to pick one of the methods to replace them."
   ]
  },
  {
   "cell_type": "code",
   "execution_count": 2,
   "id": "fefb50e3",
   "metadata": {},
   "outputs": [],
   "source": [
    "import pandas as pd\n",
    "import csv"
   ]
  },
  {
   "cell_type": "code",
   "execution_count": 3,
   "id": "8cc95d0b",
   "metadata": {},
   "outputs": [
    {
     "name": "stdout",
     "output_type": "stream",
     "text": [
      "   Unnamed: 0   num_1   num_2  num_3   num_4   num_5   num_6  num_7  cat_1  \\\n",
      "0           0  1377.3  3712.9    NaN  1303.0  2409.0  1281.7   43.0      1   \n",
      "1           1    20.0    13.4    NaN   565.0     NaN   357.2   19.0      1   \n",
      "2           4   150.6     1.8    NaN  2294.0    15.0   107.6   76.0      1   \n",
      "3           5    11.4   178.0    NaN  1236.0     NaN   350.6   41.0      1   \n",
      "4           6  5372.0  3386.0    NaN  1340.0     NaN    14.0   45.0      1   \n",
      "\n",
      "   num_8  ...  num_413  cat_132  cat_133      num_414  num_415  num_416  \\\n",
      "0  195.0  ...  11327.5        1        1  28162496.65      0.0     0.07   \n",
      "1  170.0  ...    168.6        1        1    989383.82      0.0     0.56   \n",
      "2  196.0  ...    209.1        1        1     87444.51      0.0     0.01   \n",
      "3  117.0  ...     56.9        1        1    297608.00      0.0     0.08   \n",
      "4    9.0  ...     31.0        1        1   6614247.89      0.0     0.20   \n",
      "\n",
      "   cat_134  cat_135  id  gb  \n",
      "0        1        1   1   0  \n",
      "1        2        1   2   0  \n",
      "2        3        1   3   0  \n",
      "3        4        1   4   0  \n",
      "4        1        1   5   0  \n",
      "\n",
      "[5 rows x 554 columns]\n"
     ]
    }
   ],
   "source": [
    "df = pd.read_csv(\"./train_df.csv\", sep='\\t')\n",
    "print(df.head())"
   ]
  },
  {
   "cell_type": "code",
   "execution_count": 9,
   "id": "b47574e0",
   "metadata": {},
   "outputs": [
    {
     "name": "stdout",
     "output_type": "stream",
     "text": [
      "   cat_1  cat_2  cat_3  cat_4  cat_5  cat_6  cat_7  cat_8  cat_9  cat_10  ...  \\\n",
      "0      1      1      1      1      1      1      1      1      1       1  ...   \n",
      "1      1      1      1      1      1      1      1      1      2       1  ...   \n",
      "2      1      2      2      1      1      1      1      1      2       1  ...   \n",
      "3      1      1      1      1      1      1      1      1      2       1  ...   \n",
      "4      1      1      1      1      1      1      1      1      2       1  ...   \n",
      "\n",
      "   cat_126  cat_127  cat_128  cat_129  cat_130  cat_131  cat_132  cat_133  \\\n",
      "0        1        1        1        1        1        1        1        1   \n",
      "1        1        1        1        1        1        1        1        1   \n",
      "2        1        1        1        1        1        1        1        1   \n",
      "3        1        1        1        1        1        1        1        1   \n",
      "4        1        1        1        1        1        2        1        1   \n",
      "\n",
      "   cat_134  cat_135  \n",
      "0        1        1  \n",
      "1        2        1  \n",
      "2        3        1  \n",
      "3        4        1  \n",
      "4        1        1  \n",
      "\n",
      "[5 rows x 135 columns]\n"
     ]
    }
   ],
   "source": [
    "categorical = []\n",
    "for column in df.columns:\n",
    "    if column.find(\"cat\")!=-1:\n",
    "        categorical.append(column)\n",
    "    df2 = df[categorical]\n",
    "print(df2.head())\n",
    "        "
   ]
  },
  {
   "cell_type": "code",
   "execution_count": 31,
   "id": "720868c6",
   "metadata": {},
   "outputs": [
    {
     "name": "stdout",
     "output_type": "stream",
     "text": [
      "cat_1      5\n",
      "cat_2      1\n",
      "cat_3      1\n",
      "cat_4      1\n",
      "cat_5      1\n",
      "          ..\n",
      "cat_131    1\n",
      "cat_132    1\n",
      "cat_133    1\n",
      "cat_134    5\n",
      "cat_135    1\n",
      "Name: 12370, Length: 135, dtype: int64\n",
      "272\n",
      "cat_60\n"
     ]
    }
   ],
   "source": [
    "for value in df2.columns:\n",
    "    print(df2.loc[df[value].idxmax()])\n",
    "    break\n",
    "print(max((df2.loc[df[value].idxmax()])))\n",
    "print((df2.loc[df[value].idxmax()]).idxmax())"
   ]
  }
 ],
 "metadata": {
  "kernelspec": {
   "display_name": "Python 3 (ipykernel)",
   "language": "python",
   "name": "python3"
  },
  "language_info": {
   "codemirror_mode": {
    "name": "ipython",
    "version": 3
   },
   "file_extension": ".py",
   "mimetype": "text/x-python",
   "name": "python",
   "nbconvert_exporter": "python",
   "pygments_lexer": "ipython3",
   "version": "3.11.4"
  }
 },
 "nbformat": 4,
 "nbformat_minor": 5
}
